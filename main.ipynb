{
 "cells": [
  {
   "cell_type": "code",
   "execution_count": 1,
   "metadata": {
    "collapsed": false
   },
   "outputs": [
    {
     "name": "stdout",
     "output_type": "stream",
     "text": [
      "Populating the interactive namespace from numpy and matplotlib\n"
     ]
    }
   ],
   "source": [
    "import scipy.linalg as la\n",
    "from math_functions.Get_state_index import Get_State_index\n",
    "from main_grape.Grape import Grape\n",
    "%pylab inline\n",
    "import random as rd\n",
    "import time\n",
    "from IPython import display"
   ]
  },
  {
   "cell_type": "code",
   "execution_count": 2,
   "metadata": {
    "collapsed": true
   },
   "outputs": [],
   "source": [
    "#Defining time scales\n",
    "total_time = 5.0\n",
    "steps = 300\n",
    "\n",
    "#Defining H0\n",
    "qubit_state_num = 4\n",
    "alpha = 0.224574\n",
    "freq_ge = 3.9225#GHz\n",
    "ens = np.array([ 2*np.pi*ii*(freq_ge - 0.5*(ii-1)*alpha) for ii in np.arange(qubit_state_num)])\n",
    "mode_state_num = 3\n",
    "qm_g1 = 2*np.pi*0.1 #GHz\n",
    "mode_freq1 = 6.0 #GHz\n",
    "mode_ens1 = np.array([ 2*np.pi*ii*(mode_freq1) for ii in np.arange(mode_state_num)])\n",
    "qm_g2 = 2*np.pi*0.1 #GHz\n",
    "mode_freq2 = 6.5 #GHz\n",
    "mode_ens2 = np.array([ 2*np.pi*ii*(mode_freq2) for ii in np.arange(mode_state_num)])\n",
    "state_num = qubit_state_num * (mode_state_num**2)\n",
    "Q_x   = np.diag(np.sqrt(np.arange(1,qubit_state_num)),1)+np.diag(np.sqrt(np.arange(1,qubit_state_num)),-1)\n",
    "Q_z   = np.diag(np.arange(0,qubit_state_num))\n",
    "M_x = np.diag(np.sqrt(np.arange(1,mode_state_num)),1)+np.diag(np.sqrt(np.arange(1,mode_state_num)),-1)\n",
    "I_q = np.identity(qubit_state_num)\n",
    "I_m = np.identity(mode_state_num)\n",
    "H_q = np.diag(ens)\n",
    "H_m1 = np.diag(mode_ens1)\n",
    "H_m2 = np.diag(mode_ens2)\n",
    "H0 = np.kron(H_q,np.kron(I_m,I_m)) + np.kron(I_q,np.kron(H_m1,I_m)) +\\\n",
    "        np.kron(I_q,np.kron(I_m,H_m2)) + qm_g1*np.kron(Q_x,np.kron(M_x,I_m)) +\\\n",
    "        qm_g2*np.kron(Q_x,np.kron(I_m,M_x))\n",
    "        \n",
    "#Defining Dressed information for our multimode exp        \n",
    "w_c, v_c = la.eig(H0)\n",
    "dressed=[]\n",
    "D= False\n",
    "if D:\n",
    "    for ii in range (len(v_c)):\n",
    "        index=np.argmax(np.abs(v_c[:,ii]))\n",
    "        if index not in dressed:\n",
    "            dressed.append(index)\n",
    "        else:\n",
    "            temp= (np.abs(v_c[:,ii])).tolist()\n",
    "            while index in dressed:\n",
    "\n",
    "                temp.remove(max(temp))\n",
    "                index2= np.argmax(np.array(temp))\n",
    "\n",
    "                if index2<index:\n",
    "                            #dressed.append(index2)\n",
    "                    index=index2\n",
    "                else:\n",
    "                            #dressed.append(index2-1)\n",
    "                    index=index2+1\n",
    "            dressed.append(index)\n",
    "\n",
    "#Defining Forbidden sates\n",
    "states_h = range(3*mode_state_num**2,4*mode_state_num**2)\n",
    "states_gef02 = [2,mode_state_num**2+2,2*mode_state_num**2+2]\n",
    "states_gef20 = [2*mode_state_num,mode_state_num**2+2*mode_state_num,2*mode_state_num**2+2*mode_state_num]\n",
    "states_forbidden_list = states_h + states_gef02 + states_gef20\n",
    "\n",
    "#Defining Concerned states (starting states)\n",
    "psi0 = [0,mode_state_num**2]\n",
    "\n",
    "#Defining states to include in the drawing of occupation\n",
    "states_draw_list = [0,1,mode_state_num,mode_state_num+1,mode_state_num**2]\n",
    "states_draw_names = ['g00','g01','g10','g11','e00']\n",
    "\n",
    "#Defining U (Target)\n",
    "g00=Get_State_index(0,dressed)\n",
    "e00=Get_State_index(mode_state_num**2,dressed)\n",
    "\n",
    "\n",
    "if D:\n",
    "    Ct_c= np.identity(state_num) - np.outer(v_c[:,g00], np.conjugate((v_c[:,g00])))\n",
    "    Ct_c= Ct_c - np.outer(v_c[:,e00], np.conjugate((v_c[:,e00])))\n",
    "    Ct_c= Ct_c + np.outer(v_c[:,e00], np.conjugate((v_c[:,g00])))\n",
    "    Ct_c= Ct_c + np.outer(v_c[:,g00], np.conjugate((v_c[:,e00])))\n",
    "else:\n",
    "    Ut_c = la.expm((0-1j)*total_time*H0)\n",
    "    Ct_c = Ut_c.copy()\n",
    "\n",
    "    Ct_c[e00,g00] = 1\n",
    "    Ct_c[g00,e00] = 1\n",
    "    Ct_c[g00,g00] = 0\n",
    "    Ct_c[e00,e00] = 0\n",
    "U = Ct_c\n",
    "\n",
    "#Defining U0 (Initial)\n",
    "q_identity = np.identity(qubit_state_num)\n",
    "m_identity = np.identity(mode_state_num)\n",
    "U0= np.kron(q_identity,np.kron(m_identity,m_identity))\n",
    "\n",
    "#Defining control Hs\n",
    "XI = np.kron(Q_x,np.kron(I_m,I_m))\n",
    "ZI = np.kron(Q_z,np.kron(I_m,I_m))\n",
    "Hops = [XI]\n",
    "ops_max_amp = [4.0]\n",
    "Hnames =['x']\n",
    "\n",
    "#Defining convergence parameters\n",
    "max_iterations = 500\n",
    "decay = max_iterations/2\n",
    "convergence = {'rate':0.005, 'update_step':100, 'max_iterations':max_iterations,\\\n",
    "               'conv_target':1e-8,'learning_rate_decay':decay}\n",
    "reg_coeffs = {'alpha' : 0.01, 'z':0.01, 'dwdt':0.01,'d2wdt2':0.001*0.0001, 'inter':0.0}\n",
    "multi_mode = {'dressed':dressed, 'vectors':v_c, 'qnum':qubit_state_num, 'mnum': mode_state_num,\\\n",
    "              'f':freq_ge, 'es':w_c, 'g1':qm_g1, 'D':D, 'Interpolation':True, 'Modulation':True}"
   ]
  },
  {
   "cell_type": "code",
   "execution_count": null,
   "metadata": {
    "collapsed": false,
    "scrolled": false
   },
   "outputs": [],
   "source": [
    "Grape(H0,Hops,Hnames,U,U0,total_time,steps,psi0,convergence, draw = [states_draw_list,states_draw_names],\n",
    "      forbidden = states_forbidden_list )"
   ]
  },
  {
   "cell_type": "code",
   "execution_count": null,
   "metadata": {
    "collapsed": true
   },
   "outputs": [],
   "source": []
  }
 ],
 "metadata": {
  "kernelspec": {
   "display_name": "Python 2",
   "language": "python",
   "name": "python2"
  },
  "language_info": {
   "codemirror_mode": {
    "name": "ipython",
    "version": 2
   },
   "file_extension": ".py",
   "mimetype": "text/x-python",
   "name": "python",
   "nbconvert_exporter": "python",
   "pygments_lexer": "ipython2",
   "version": "2.7.6"
  }
 },
 "nbformat": 4,
 "nbformat_minor": 0
}
