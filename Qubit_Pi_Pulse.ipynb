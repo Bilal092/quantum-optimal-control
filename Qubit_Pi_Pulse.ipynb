{
 "cells": [
  {
   "cell_type": "code",
   "execution_count": 4,
   "metadata": {
    "collapsed": false,
    "scrolled": false
   },
   "outputs": [
    {
     "name": "stdout",
     "output_type": "stream",
     "text": [
      "Populating the interactive namespace from numpy and matplotlib\n"
     ]
    },
    {
     "name": "stderr",
     "output_type": "stream",
     "text": [
      "WARNING: pylab import has clobbered these variables: ['display']\n",
      "`%matplotlib` prevents importing * from pylab and numpy\n"
     ]
    }
   ],
   "source": [
    "import scipy.linalg as la\n",
    "from math_functions.Get_state_index import Get_State_index\n",
    "from main_grape.Grape import Grape\n",
    "%pylab inline\n",
    "import random as rd\n",
    "import time\n",
    "from IPython import display"
   ]
  },
  {
   "cell_type": "code",
   "execution_count": 5,
   "metadata": {
    "collapsed": false
   },
   "outputs": [],
   "source": [
    "#Defining time scales\n",
    "total_time = 5.0\n",
    "steps = 300\n",
    "\n",
    "#Defining H0\n",
    "qubit_state_num = 4\n",
    "alpha = 0.224574\n",
    "freq_ge = 3.9225#GHz\n",
    "ens = np.array([ 2*np.pi*ii*(freq_ge - 0.5*(ii-1)*alpha) for ii in np.arange(qubit_state_num)])\n",
    "Q_x   = np.diag(np.sqrt(np.arange(1,qubit_state_num)),1)+np.diag(np.sqrt(np.arange(1,qubit_state_num)),-1)\n",
    "Q_z   = np.diag(np.arange(0,qubit_state_num))\n",
    "I_q = np.identity(qubit_state_num)\n",
    "H_q = np.diag(ens)\n",
    "H0 = H_q \n",
    "       \n",
    "\n",
    "#Defining Forbidden sates\n",
    "\n",
    "states_forbidden_list = [3]\n",
    "\n",
    "#Defining Concerned states (starting states)\n",
    "psi0 = [0,1]\n",
    "\n",
    "#Defining states to include in the drawing of occupation\n",
    "states_draw_list = [0,1,2]\n",
    "states_draw_names = ['g','e','f']\n",
    "\n",
    "#Defining U (Target)\n",
    "\n",
    "Ut_c = la.expm((0-1j)*total_time*H0)\n",
    "Ct_c = Ut_c.copy()\n",
    "Ct_c[1,0] = 1\n",
    "Ct_c[0,1] = 1\n",
    "Ct_c[0,0] = 0\n",
    "Ct_c[1,1] = 0\n",
    "U = Ct_c\n",
    "\n",
    "#Defining U0 (Initial)\n",
    "q_identity = np.identity(qubit_state_num)\n",
    "U0= q_identity\n",
    "\n",
    "#Defining control Hs\n",
    "XI = Q_x\n",
    "ZI = Q_z\n",
    "Hops = [XI,ZI]\n",
    "ops_max_amp = [4.0,2*np.pi*2.0]\n",
    "Hnames =['x','z']\n",
    "\n",
    "#Defining convergence parameters\n",
    "max_iterations = 5000\n",
    "decay = max_iterations/2\n",
    "convergence = {'rate':0.01, 'update_step':10, 'max_iterations':max_iterations,\\\n",
    "               'conv_target':1e-8,'learning_rate_decay':decay}\n",
    "reg_coeffs = {'alpha' : 0.01, 'z':0.01, 'dwdt':0.01,'d2wdt2':0.001*0.0001, 'inter':100}\n",
    "#multi_mode = {'dressed':dressed, 'vectors':v_c, 'qnum':qubit_state_num, 'mnum': mode_state_num,\\\n",
    "              #'f':freq_ge, 'es':w_c, 'g1':qm_g1, 'D':D, 'Interpolation':True, 'Modulation':True}\n",
    "\n",
    "    #Defining initial pulses\n",
    "u0 = []\n",
    "u0.append(np.ones(steps))\n",
    "u0.append(np.zeros(steps))\n",
    "    "
   ]
  },
  {
   "cell_type": "code",
   "execution_count": null,
   "metadata": {
    "collapsed": false,
    "scrolled": false
   },
   "outputs": [
    {
     "name": "stdout",
     "output_type": "stream",
     "text": [
      "Building graph:\n",
      "State initialized.\n",
      "Operators initialized.\n",
      "Operators weight initialized.\n",
      "Intermediate states initialized.\n",
      "Propagator initialized."
     ]
    }
   ],
   "source": [
    " #Extra options\n",
    "#reg_coeffs = reg_coeffs,draw = [states_draw_list,states_draw_names] ,forbidden = states_forbidden_list,multi_mode = multi_mode,\n",
    "#maxA = ops_max_amp,use_gpu = True\n",
    "Grape(H0,Hops,Hnames,U,U0,total_time,steps,psi0,convergence, draw = [states_draw_list,states_draw_names], forbidden = states_forbidden_list\\\n",
    "     , initial_guess = u0)"
   ]
  },
  {
   "cell_type": "code",
   "execution_count": null,
   "metadata": {
    "collapsed": true
   },
   "outputs": [],
   "source": []
  }
 ],
 "metadata": {
  "kernelspec": {
   "display_name": "Python 2",
   "language": "python",
   "name": "python2"
  },
  "language_info": {
   "codemirror_mode": {
    "name": "ipython",
    "version": 2
   },
   "file_extension": ".py",
   "mimetype": "text/x-python",
   "name": "python",
   "nbconvert_exporter": "python",
   "pygments_lexer": "ipython2",
   "version": "2.7.6"
  }
 },
 "nbformat": 4,
 "nbformat_minor": 0
}
