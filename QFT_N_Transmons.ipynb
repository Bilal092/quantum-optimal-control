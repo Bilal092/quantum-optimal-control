{
 "cells": [
  {
   "cell_type": "code",
   "execution_count": 1,
   "metadata": {
    "collapsed": false,
    "scrolled": false
   },
   "outputs": [
    {
     "name": "stdout",
     "output_type": "stream",
     "text": [
      "Populating the interactive namespace from numpy and matplotlib\n"
     ]
    }
   ],
   "source": [
    "import numpy as np\n",
    "from main_grape.Grape import Grape\n",
    "from main_grape.Evolve import Evolve\n",
    "from math_functions.helper_fns import *\n",
    "%pylab inline\n",
    "\n",
    "\n"
   ]
  },
  {
   "cell_type": "code",
   "execution_count": 2,
   "metadata": {
    "collapsed": false
   },
   "outputs": [],
   "source": [
    "import scipy.io as sio\n",
    "\n",
    "a = sio.loadmat('File.mat')\n"
   ]
  },
  {
   "cell_type": "code",
   "execution_count": null,
   "metadata": {
    "collapsed": false
   },
   "outputs": [
    {
     "name": "stdout",
     "output_type": "stream",
     "text": [
      "['00000', '00001', '00010', '00011', '00100', '00101', '00110', '00111', '01000', '01001', '01010', '01011', '01100', '01101', '01110', '01111', '10000', '10001', '10010', '10011', '10100', '10101', '10110', '10111', '11000', '11001', '11010', '11011', '11100', '11101', '11110', '11111']\n",
      "['xiiii', 'ixiii', 'iixii', 'iiixi', 'iiiix', 'yiiii', 'iyiii', 'iiyii', 'iiiyi', 'iiiiy', 'ziiii', 'iziii', 'iizii', 'iiizi', 'iiiiz', 'all x', 'all y', 'all z']\n",
      "(32, 32)\n",
      "(18, 32, 32)\n"
     ]
    }
   ],
   "source": [
    "\n",
    "#Defining time scales\n",
    "total_time = 8.0\n",
    "steps = 300\n",
    "qubit_num = 5\n",
    "qubit_state_num = 2\n",
    "\n",
    "       \n",
    "\n",
    "#Defining Forbidden sates\n",
    "\n",
    "#states_forbidden_list = []\n",
    "\n",
    "#Defining Concerned states (starting states)\n",
    "psi0 = concerned(qubit_num,qubit_state_num)\n",
    "\n",
    "#Defining states to include in the drawing of occupation\n",
    "states_draw_list = range(qubit_state_num**qubit_num)\n",
    "states_draw_names =[]\n",
    "for ii in states_draw_list:\n",
    "    states_draw_names.append(Basis(ii,qubit_num,qubit_state_num))\n",
    "\n",
    "#Defining U (Target)\n",
    "\n",
    "U= transmon_gate(qft(qubit_num),qubit_state_num)\n",
    "#U = np.diag(np.arange(0,4))\n",
    "\n",
    "#Defining U0 (Initial)\n",
    "qq_identity = np.identity(qubit_state_num**qubit_num)\n",
    "U0= qq_identity\n",
    "\n",
    "#Defining control Hs\n",
    "Q_x   = np.diag(np.sqrt(np.arange(1,qubit_state_num)),1)+np.diag(np.sqrt(np.arange(1,qubit_state_num)),-1)\n",
    "Q_y   = (0+1j) *(np.diag(np.sqrt(np.arange(1,qubit_state_num)),1)-np.diag(np.sqrt(np.arange(1,qubit_state_num)),-1))\n",
    "Q_z   = np.diag(np.arange(0,qubit_state_num))\n",
    "Q_I = np.identity(qubit_state_num)\n",
    "\n",
    "Q_xx = multi_kron(Q_x,qubit_num)\n",
    "Q_yy = multi_kron(Q_y,qubit_num)\n",
    "Q_zz = multi_kron(Q_z,qubit_num)\n",
    "\n",
    "H0 = 0.5* (Q_xx+Q_yy+Q_zz)\n",
    "\n",
    "Hops = []\n",
    "Hnames = []\n",
    "ops_max_amp = []\n",
    "Hops,Hnames,ops_max_amp = append_separate_krons(Q_x,'x',qubit_num,qubit_state_num,Hops,Hnames,ops_max_amp,amp=1.1)\n",
    "Hops,Hnames,ops_max_amp = append_separate_krons(Q_y,'y',qubit_num,qubit_state_num,Hops,Hnames,ops_max_amp,amp=1.1)\n",
    "Hops,Hnames,ops_max_amp = append_separate_krons(Q_z,'z',qubit_num,qubit_state_num,Hops,Hnames,ops_max_amp,amp=1.1)\n",
    "Hops.extend([Q_xx,Q_yy,Q_zz])\n",
    "Hnames.extend(['all x','all y','all z'])\n",
    "ops_max_amp.extend([1.1,1.1,1.1])\n",
    "\n",
    "#Defining convergence parameters\n",
    "max_iterations = 2000\n",
    "decay = max_iterations/2\n",
    "convergence = {'rate':0.05, 'update_step':10, 'max_iterations':max_iterations,\\\n",
    "               'conv_target':1e-4,'learning_rate_decay':decay}\n",
    "reg_coeffs = {'alpha' : 0, 'z':0, 'dwdt':0,'d2wdt2':0, 'inter':0}\n",
    "#multi_mode = {'dressed':dressed, 'vectors':v_c, 'qnum':qubit_state_num, 'mnum': mode_state_num,\\\n",
    "              #'f':freq_ge, 'es':w_c, 'g1':qm_g1, 'D':D, 'Interpolation':True, 'Modulation':True}\n",
    "\n",
    "print states_draw_names\n",
    "print Hnames\n",
    "print np.shape(U)\n",
    "print np.shape(Hops)\n",
    "\n",
    "\n",
    "\n"
   ]
  },
  {
   "cell_type": "code",
   "execution_count": null,
   "metadata": {
    "collapsed": false,
    "scrolled": false
   },
   "outputs": [
    {
     "name": "stdout",
     "output_type": "stream",
     "text": [
      "Using 6 Taylor terms and 1 Scaling & Squaring terms\n",
      "Building graph:\n",
      "State initialized.\n",
      "Operators initialized.\n",
      "Operators weight initialized.\n",
      "Intermediate states initialized.\n",
      "Propagator initialized.\n",
      "Vectors initialized.\n",
      "Training loss initialized.\n",
      "Optimizer initialized."
     ]
    }
   ],
   "source": [
    " #Extra options\n",
    "#reg_coeffs = reg_coeffs,draw = [states_draw_list,states_draw_names] ,forbidden = states_forbidden_list,multi_mode = multi_mode,\n",
    "#maxA = ops_max_amp,use_gpu = True\n",
    "uks,Uf=Grape(H0,Hops,Hnames,U,U0,total_time,steps,psi0,convergence,reg_coeffs = reg_coeffs,\n",
    "      draw = [states_draw_list,states_draw_names], show_plots = False, method = 'L-BFGS-B', Unitary_error = 1e-4,switch=True)"
   ]
  },
  {
   "cell_type": "code",
   "execution_count": null,
   "metadata": {
    "collapsed": false
   },
   "outputs": [],
   "source": [
    "from qutip import *\n",
    "import qutip.control.pulseoptim as cpo\n",
    "import qutip.control.pulsegen as pulsegen\n",
    "import qutip.logging as logging\n",
    "logger = logging.get_logger()\n",
    "#Set this to None or logging.WARN for 'quiet' execution\n",
    "log_level = logging.INFO\n",
    "size = len(H0)\n",
    "H_d = Qobj(H0)\n",
    "H_c = []\n",
    "for op in Hops:\n",
    "    H_c.append(Qobj(op))\n",
    "U_0 = identity(size)\n",
    "U_targ = Qobj(U)\n",
    "n_ts = steps\n",
    "n_ts = 90\n",
    "\n",
    "evo_time = total_time\n",
    "fid_err_targ = convergence['conv_target']\n",
    "fid_err_targ = 4e-5\n",
    "# Maximum iterations for the optisation algorithm\n",
    "max_iter = 1000 #Can change\n",
    "# Maximum (elapsed) time allowed in seconds\n",
    "max_wall_time = 30000\n",
    "# Minimum gradient (sum of gradients squared)\n",
    "# as this tends to 0 -> local minima has been found\n",
    "min_grad = 1e-20\n",
    "p_type = 'RND'\n",
    "f_ext = \"{}_n_ts{}_ptype{}.txt\".format('test', n_ts, p_type)\n",
    "result = cpo.optimize_pulse_unitary(H_d, H_c, U_0, U_targ, n_ts, evo_time, \n",
    "                fid_err_targ=fid_err_targ, min_grad=min_grad, \n",
    "                max_iter=max_iter, max_wall_time=max_wall_time, \n",
    "                out_file_ext=f_ext, init_pulse_type=p_type, \n",
    "                log_level=log_level, gen_stats=True)\n",
    "result.stats.report()\n",
    "\n",
    "print(\"********* Summary *****************\")\n",
    "print(\"Final fidelity error {}\".format(result.fid_err))\n",
    "print(\"Final gradient normal {}\".format(result.grad_norm_final))\n",
    "print(\"Terminated due to {}\".format(result.termination_reason))\n",
    "print(\"Number of iterations {}\".format(result.num_iter))\n",
    "print(\"Completed in {} HH:MM:SS.US\".format(\n",
    "        datetime.timedelta(seconds=result.wall_time)))"
   ]
  },
  {
   "cell_type": "code",
   "execution_count": null,
   "metadata": {
    "collapsed": false,
    "scrolled": false
   },
   "outputs": [],
   "source": [
    "\n",
    "file = open('ctrl_amps_final_test_n_ts'+str(n_ts)+'_ptype'+str(p_type)+'.txt', 'r')\n",
    "\n",
    "    \n",
    "u=[]\n",
    "uz=[]\n",
    "u0=[]\n",
    "for line in file:\n",
    "    a=line.split()\n",
    "    for ii in range (len(Hops)):\n",
    "        u.append(float(a[ii+1]))\n",
    "print np.shape(u)       \n",
    "for ii in range (len(Hops)):\n",
    "    ui=[]\n",
    "    for jj in range (n_ts):\n",
    "        index = ii+len(Hops)*jj\n",
    "        ui.append(u[index])\n",
    "    u0.append(np.reshape(ui,[n_ts]))\n",
    "#u0.append(ux)\n",
    "#u0.append(uz)\n",
    "print np.shape(u0)\n",
    "plt.figure(figsize=(18,6))\n",
    "for jj in range (len(u0)):\n",
    "    plt.plot(np.array([total_time* ii/steps for ii in range(n_ts)]),np.array(u0[jj]),label='u'+Hnames[jj])\n",
    "plt.title('Optimized pulse')\n",
    "            \n",
    "plt.ylabel('Amplitude')\n",
    "plt.xlabel('Time (ns)')\n",
    "plt.legend()\n",
    "\n",
    "Evolve(H0,Hops,U0,total_time,n_ts,psi0, u0, draw = [states_draw_list,states_draw_names], U = U,Hnames = Hnames)\n"
   ]
  }
 ],
 "metadata": {
  "kernelspec": {
   "display_name": "Python 2",
   "language": "python",
   "name": "python2"
  },
  "language_info": {
   "codemirror_mode": {
    "name": "ipython",
    "version": 2
   },
   "file_extension": ".py",
   "mimetype": "text/x-python",
   "name": "python",
   "nbconvert_exporter": "python",
   "pygments_lexer": "ipython2",
   "version": "2.7.6"
  }
 },
 "nbformat": 4,
 "nbformat_minor": 0
}
