{
 "cells": [
  {
   "cell_type": "code",
   "execution_count": 1,
   "metadata": {
    "collapsed": false,
    "scrolled": true
   },
   "outputs": [
    {
     "name": "stdout",
     "output_type": "stream",
     "text": [
      "Can't load cusolver --ds\n"
     ]
    }
   ],
   "source": [
    "%matplotlib inline\n",
    "from __future__ import print_function\n",
    "\n",
    "import pycuda.autoinit\n",
    "import pycuda.gpuarray as gpuarray\n",
    "import pycuda.driver as drv\n",
    "import numpy as np\n",
    "import time\n",
    "\n",
    "import skcuda.linalg as culinalg\n",
    "cudot=culinalg.dot\n",
    "to_gpu=gpuarray.to_gpu\n",
    "import skcuda.misc as cumisc\n",
    "culinalg.init()"
   ]
  },
  {
   "cell_type": "code",
   "execution_count": null,
   "metadata": {
    "collapsed": false
   },
   "outputs": [],
   "source": [
    "# Double precision is only supported by devices with compute\n",
    "# capability >= 1.3:\n",
    "import string\n",
    "demo_types = [np.float32, np.complex64]\n",
    "if cumisc.get_compute_capability(pycuda.autoinit.device) >= 1.3:\n",
    "    demo_types.extend([np.float64, np.complex128])\n",
    "\n",
    "for t in demo_types:\n",
    "    print('Testing matrix multiplication for type ' + str(np.dtype(t)))\n",
    "    if np.iscomplexobj(t()):\n",
    "        a = np.asarray(np.random.rand(10, 5) + 1j * np.random.rand(10, 5), t)\n",
    "        b = np.asarray(np.random.rand(5, 5) + 1j * np.random.rand(5, 5), t)\n",
    "        c = np.asarray(np.random.rand(5, 5) + 1j * np.random.rand(5, 5), t)\n",
    "    else:\n",
    "        a = np.asarray(np.random.rand(10, 5), t)\n",
    "        b = np.asarray(np.random.rand(5, 5), t)\n",
    "        c = np.asarray(np.random.rand(5, 5), t)\n",
    "\n",
    "    a_gpu = gpuarray.to_gpu(a)\n",
    "    b_gpu = gpuarray.to_gpu(b)\n",
    "    c_gpu = gpuarray.to_gpu(c)\n",
    "\n",
    "    temp_gpu = culinalg.dot(a_gpu, b_gpu)\n",
    "    d_gpu = culinalg.dot(temp_gpu, c_gpu)\n",
    "    temp_gpu.gpudata.free()\n",
    "    del(temp_gpu)\n",
    "    print('Success status: ', np.allclose(np.dot(np.dot(a, b), c), d_gpu.get()))\n",
    "\n",
    "    print('Testing vector multiplication for type ' + str(np.dtype(t)))\n",
    "    if np.iscomplexobj(t()):\n",
    "        d = np.asarray(np.random.rand(5) + 1j * np.random.rand(5), t)\n",
    "        e = np.asarray(np.random.rand(5) + 1j * np.random.rand(5), t)\n",
    "    else:\n",
    "        d = np.asarray(np.random.rand(5), t)\n",
    "        e = np.asarray(np.random.rand(5), t)\n",
    "\n",
    "    d_gpu = gpuarray.to_gpu(d)\n",
    "    e_gpu = gpuarray.to_gpu(e)\n",
    "\n",
    "    temp = culinalg.dot(d_gpu, e_gpu)\n",
    "    print('Success status: ', np.allclose(np.dot(d, e), temp))"
   ]
  },
  {
   "cell_type": "code",
   "execution_count": 3,
   "metadata": {
    "collapsed": false
   },
   "outputs": [
    {
     "name": "stdout",
     "output_type": "stream",
     "text": [
      "size: 10, gpu: 0.000899, cpu: 0.005532, ratio : 6.153010 smem: 0.15 GB fmem: 0.15 GB\n",
      "size: 20, gpu: 0.001024, cpu: 0.000025, ratio : 0.024447 smem: 0.15 GB fmem: 0.15 GB\n",
      "size: 40, gpu: 0.000867, cpu: 0.000043, ratio : 0.049780 smem: 0.15 GB fmem: 0.15 GB\n",
      "size: 80, gpu: 0.000520, cpu: 0.005551, ratio : 10.675378 smem: 0.15 GB fmem: 0.15 GB\n",
      "size: 150, gpu: 0.001317, cpu: 0.001439, ratio : 1.092505 smem: 0.15 GB fmem: 0.15 GB\n",
      "size: 300, gpu: 0.002020, cpu: 0.003700, ratio : 1.831583 smem: 0.15 GB fmem: 0.16 GB\n",
      "size: 600, gpu: 0.002834, cpu: 0.012944, ratio : 4.567258 smem: 0.15 GB fmem: 0.16 GB\n",
      "size: 1200, gpu: 0.004176, cpu: 0.095504, ratio : 22.868977 smem: 0.15 GB fmem: 0.19 GB\n",
      "size: 2500, gpu: 0.011887, cpu: 0.443664, ratio : 37.323238 smem: 0.15 GB fmem: 0.30 GB\n",
      "size: 5000, gpu: 0.036994, cpu: 1.910062, ratio : 51.631693 smem: 0.15 GB fmem: 0.76 GB\n",
      "size: 10000, gpu: 0.142716, cpu: 14.674701, ratio : 102.824375 smem: 0.15 GB fmem: 2.56 GB\n",
      "size: 15000, gpu: 0.319771, cpu: 47.593949, ratio : 148.837579 smem: 0.15 GB fmem: 5.56 GB\n"
     ]
    }
   ],
   "source": [
    "\n",
    "m_sizes = [10,20,40,80,150,300,600,1200,2500,5000,10000,15000]\n",
    "\n",
    "ctimes=[]\n",
    "gtimes=[]\n",
    "\n",
    "for m_size in m_sizes:\n",
    "    smem= drv.mem_get_info()\n",
    "    a= np.asarray(np.random.rand(m_size,m_size) + 1j * np.random.rand(m_size,m_size), np.complex64)\n",
    "    b= np.asarray(np.random.rand(m_size,m_size) + 1j * np.random.rand(m_size,m_size), np.complex64)\n",
    "\n",
    "    gst=time.time()\n",
    "    ga=to_gpu(a)\n",
    "    gb=to_gpu(b)\n",
    "    tg=cudot(ga,gb)\n",
    "    gft=time.time()\n",
    "    cst=time.time()\n",
    "    m=np.dot(a,b)\n",
    "    cft=time.time()\n",
    "    fmem=drv.mem_get_info()\n",
    "    tg.gpudata.free()\n",
    "    ga.gpudata.free()\n",
    "    gb.gpudata.free()\n",
    "    \n",
    "    ctimes.append(cft-cst)\n",
    "    gtimes.append(gft-gst)\n",
    "    \n",
    "    print (\"size: %d, gpu: %f, cpu: %f, ratio : %f smem: %0.2f GB fmem: %0.2f GB\" % (m_size,gtimes[-1],ctimes[-1],ctimes[-1]/gtimes[-1],(smem[1]-smem[0])/1e9,(fmem[1]-fmem[0])/1e9))"
   ]
  },
  {
   "cell_type": "code",
   "execution_count": null,
   "metadata": {
    "collapsed": false
   },
   "outputs": [],
   "source": [
    "m_size=100\n",
    "a= np.asarray(np.random.rand(m_size,m_size) + 1j * np.random.rand(m_size,m_size), np.complex64)\n",
    "b= np.asarray(np.random.rand(m_size,m_size) + 1j * np.random.rand(m_size,m_size), np.complex64)\n",
    "ga=to_gpu(a)\n",
    "gb=to_gpu(b)\n",
    "gc=cudot(ga,gb)"
   ]
  },
  {
   "cell_type": "code",
   "execution_count": null,
   "metadata": {
    "collapsed": false
   },
   "outputs": [],
   "source": [
    "np.dot(gc.get(),gc.get())"
   ]
  },
  {
   "cell_type": "code",
   "execution_count": null,
   "metadata": {
    "collapsed": false
   },
   "outputs": [],
   "source": [
    "2*8*30000**2/1e9"
   ]
  },
  {
   "cell_type": "code",
   "execution_count": null,
   "metadata": {
    "collapsed": false
   },
   "outputs": [],
   "source": [
    "len(gc)"
   ]
  },
  {
   "cell_type": "code",
   "execution_count": null,
   "metadata": {
    "collapsed": false
   },
   "outputs": [],
   "source": [
    "np.log2(100000)"
   ]
  },
  {
   "cell_type": "code",
   "execution_count": null,
   "metadata": {
    "collapsed": false
   },
   "outputs": [],
   "source": [
    "def gpu_free(*gpu_vs):\n",
    "    for gpu_v in gpu_vs:\n",
    "        print (gpu_v)\n"
   ]
  },
  {
   "cell_type": "code",
   "execution_count": null,
   "metadata": {
    "collapsed": false
   },
   "outputs": [],
   "source": [
    "gpu_free('a','b','c')"
   ]
  },
  {
   "cell_type": "code",
   "execution_count": null,
   "metadata": {
    "collapsed": false
   },
   "outputs": [],
   "source": [
    "gc.shape"
   ]
  },
  {
   "cell_type": "code",
   "execution_count": 2,
   "metadata": {
    "collapsed": false
   },
   "outputs": [
    {
     "data": {
      "text/plain": [
       "11.25"
      ]
     },
     "execution_count": 2,
     "metadata": {},
     "output_type": "execute_result"
    }
   ],
   "source": [
    "15000**3/0.3/1e12"
   ]
  },
  {
   "cell_type": "code",
   "execution_count": null,
   "metadata": {
    "collapsed": true
   },
   "outputs": [],
   "source": []
  }
 ],
 "metadata": {
  "kernelspec": {
   "display_name": "Python 2",
   "language": "python",
   "name": "python2"
  },
  "language_info": {
   "codemirror_mode": {
    "name": "ipython",
    "version": 2
   },
   "file_extension": ".py",
   "mimetype": "text/x-python",
   "name": "python",
   "nbconvert_exporter": "python",
   "pygments_lexer": "ipython2",
   "version": "2.7.12"
  }
 },
 "nbformat": 4,
 "nbformat_minor": 0
}
